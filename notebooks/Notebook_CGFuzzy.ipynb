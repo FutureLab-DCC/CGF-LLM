{
  "nbformat": 4,
  "nbformat_minor": 0,
  "metadata": {
    "colab": {
      "provenance": []
    },
    "kernelspec": {
      "name": "python3",
      "display_name": "Python 3"
    },
    "language_info": {
      "name": "python"
    }
  },
  "cells": [
    {
      "cell_type": "markdown",
      "source": [
        "# Causal Graph Fuzzy (MISO)"
      ],
      "metadata": {
        "id": "YKDFHWvnhwD6"
      }
    },
    {
      "cell_type": "code",
      "execution_count": null,
      "metadata": {
        "id": "_u-Ve8YEfemJ"
      },
      "outputs": [],
      "source": [
        "!pip install --quiet git+https://github.com/PatriciaLucas/AutoML.git\n",
        "!pip3 install -U git+https://github.com/PYFTS/pyFTS\n",
        "!git clone https://github.com/FutureLab-DCC/CGF-LLM.git"
      ]
    },
    {
      "cell_type": "code",
      "source": [
        "from AUTODCETS import datasets\n",
        "import pandas as pd\n",
        "import numpy as np\n",
        "import sys\n",
        "sys.path.append('CGF-LLM')\n",
        "import CGFuzzy, utils"
      ],
      "metadata": {
        "id": "93o4ggG-iMIb"
      },
      "execution_count": 2,
      "outputs": []
    },
    {
      "cell_type": "code",
      "source": [
        "name_dataset = 'SONDA'\n",
        "target = 'glo_avg'\n",
        "df = utils.get_dataset(name = name_dataset)\n",
        "\n",
        "max_lags = 20\n",
        "partitions = 30\n",
        "database_path = 'CGFuzzy.db'\n",
        "epochs = 20\n",
        "model_name = 'CGFuzzy'\n",
        "\n",
        "windows = utils.rolling_window(df, 10)\n",
        "utils.execute(\"CREATE TABLE IF NOT EXISTS results(model TEXT, name_dataset TEXT, window INT, predict FLOAT, \\\n",
        "               real FLOAT)\", database_path)"
      ],
      "metadata": {
        "colab": {
          "base_uri": "https://localhost:8080/"
        },
        "id": "pSt0iRzdh52C",
        "outputId": "b8c4a8f5-0aeb-444d-a777-d2d62c0aea69"
      },
      "execution_count": 3,
      "outputs": [
        {
          "output_type": "execute_result",
          "data": {
            "text/plain": [
              "[]"
            ]
          },
          "metadata": {},
          "execution_count": 3
        }
      ]
    },
    {
      "cell_type": "code",
      "source": [
        "# Loop through the windows\n",
        "for i, window in enumerate(windows):\n",
        "    if i < 0:\n",
        "      print('window already executed')\n",
        "    else:\n",
        "      # Exclude constant series.\n",
        "      for variable in window.columns:\n",
        "          if window[variable].max() == window[variable].min():\n",
        "              window = window.drop(variable, axis=1)\n",
        "              print(f\"Variables {variable} were deleted because they are constant.\")\n",
        "\n",
        "      idx = int(0.8 * len(window))\n",
        "      train_dataset, test_dataset = window.head(idx), window.tail(len(window) - idx)\n",
        "\n",
        "      # CGFuzzy\n",
        "      ts_fuzzy, partitioners = CGFuzzy.fuzzyfy(train_dataset, npart=partitions)\n",
        "\n",
        "      model, graph = CGFuzzy.fit(train_dataset, ts_fuzzy, target, max_lags)\n",
        "\n",
        "      forecasts = CGFuzzy.predict(test_dataset, model, graph, max_lags, target, partitioners)\n",
        "      real = test_dataset[target].squeeze().tolist()[max_lags:]\n",
        "      for j in range(len(forecasts)):\n",
        "          utils.execute_insert(\"INSERT INTO results VALUES(?, ?, ?, ?, ?)\", (model_name, name_dataset, i, forecasts[j], real[j]), database_path)\n",
        "\n",
        "      print(f'Save window: {i}')"
      ],
      "metadata": {
        "id": "-XfuhthMiqmK",
        "colab": {
          "base_uri": "https://localhost:8080/"
        },
        "outputId": "fcda545c-75da-4349-e6bc-57f454842a7c"
      },
      "execution_count": 4,
      "outputs": [
        {
          "output_type": "stream",
          "name": "stdout",
          "text": [
            "Save window: 0\n",
            "Save window: 1\n",
            "Save window: 2\n",
            "Save window: 3\n"
          ]
        }
      ]
    },
    {
      "cell_type": "markdown",
      "source": [
        "## How to view the results"
      ],
      "metadata": {
        "id": "8XQ0-9Pfke1y"
      }
    },
    {
      "cell_type": "code",
      "source": [
        "results = utils.get_metrics(database_path)\n",
        "results"
      ],
      "metadata": {
        "id": "5AMkTqj110_v",
        "colab": {
          "base_uri": "https://localhost:8080/"
        },
        "outputId": "a818bbfd-a0ee-495f-d2a0-4f138836f938"
      },
      "execution_count": 5,
      "outputs": [
        {
          "output_type": "execute_result",
          "data": {
            "text/plain": [
              "[     Model Dataset  AVG NRMSE  STD NRMSE\n",
              " 0  CGFuzzy   SONDA   0.126853   0.061816]"
            ]
          },
          "metadata": {},
          "execution_count": 5
        }
      ]
    }
  ]
}